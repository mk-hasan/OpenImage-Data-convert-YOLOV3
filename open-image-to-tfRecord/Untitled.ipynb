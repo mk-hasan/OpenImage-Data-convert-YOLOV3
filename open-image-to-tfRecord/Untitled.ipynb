{
 "cells": [
  {
   "cell_type": "markdown",
   "metadata": {},
   "source": [
    "# Utilities for creating TFRecords of TF examples for the Open Images dataset"
   ]
  },
  {
   "cell_type": "code",
   "execution_count": 6,
   "metadata": {},
   "outputs": [],
   "source": [
    "from __future__ import absolute_import\n",
    "from __future__ import division\n",
    "from __future__ import print_function\n",
    "\n",
    "import os\n",
    "\n",
    "import contextlib2\n",
    "import pandas as pd\n",
    "import tensorflow as tf\n",
    "\n",
    "import oid_tfrecord_creation\n",
    "import tf_record_creation_util\n",
    "import label_map_util"
   ]
  },
  {
   "cell_type": "markdown",
   "metadata": {},
   "source": [
    "    --input_box_annotations_csv=/path/to/input/annotations-human-bbox.csv \\\n",
    "    --input_image_label_annotations_csv=/path/to/input/annotations-label.csv \\\n",
    "    --input_images_directory=/path/to/input/image_pixels_directory \\\n",
    "    --input_label_map=/path/to/input/labels_bbox_545.labelmap \\\n",
    "    --output_tf_record_path_prefix=/path/to/output/prefix.tfrecord"
   ]
  },
  {
   "cell_type": "markdown",
   "metadata": {},
   "source": [
    "CSVs with bounding box annotations and image metadata (including the image URLs)\n",
    "can be downloaded from the Open Images GitHub repository:\n",
    "https://github.com/openimages/dataset\n",
    "This script will include every image found in the input_images_directory in the\n",
    "output TFRecord, even if the image has no corresponding bounding box annotations\n",
    "in the input_annotations_csv. If input_image_label_annotations_csv is specified,\n",
    "it will add image-level labels as well. Note that the information of whether a\n",
    "label is positivelly or negativelly verified is NOT added to tfrecord.\n",
    "\"\"\""
   ]
  },
  {
   "cell_type": "code",
   "execution_count": null,
   "metadata": {},
   "outputs": [],
   "source": [
    "def tf_example_from_annotations_data_frame(annotations_data_frame, label_map,\n",
    "                                           encoded_image):\n",
    "  \"\"\"Populates a TF Example message with image annotations from a data frame.\n",
    "  Args:\n",
    "    annotations_data_frame: Data frame containing the annotations for a single\n",
    "      image.\n",
    "    label_map: String to integer label map.\n",
    "    encoded_image: The encoded image string\n",
    "  Returns:\n",
    "    The populated TF Example, if the label of at least one object is present in\n",
    "    label_map. Otherwise, returns None.\n",
    "  \"\"\"\n",
    "\n",
    "  filtered_data_frame = annotations_data_frame[\n",
    "      annotations_data_frame.LabelName.isin(label_map)]\n",
    "  filtered_data_frame_boxes = filtered_data_frame[\n",
    "      ~filtered_data_frame.YMin.isnull()]\n",
    "  filtered_data_frame_labels = filtered_data_frame[\n",
    "      filtered_data_frame.YMin.isnull()]\n",
    "  image_id = annotations_data_frame.ImageID.iloc[0]\n",
    "\n",
    "  feature_map = {\n",
    "      standard_fields.TfExampleFields.object_bbox_ymin:\n",
    "          dataset_util.float_list_feature(\n",
    "              filtered_data_frame_boxes.YMin.as_matrix()),\n",
    "      standard_fields.TfExampleFields.object_bbox_xmin:\n",
    "          dataset_util.float_list_feature(\n",
    "              filtered_data_frame_boxes.XMin.as_matrix()),\n",
    "      standard_fields.TfExampleFields.object_bbox_ymax:\n",
    "          dataset_util.float_list_feature(\n",
    "              filtered_data_frame_boxes.YMax.as_matrix()),\n",
    "      standard_fields.TfExampleFields.object_bbox_xmax:\n",
    "          dataset_util.float_list_feature(\n",
    "              filtered_data_frame_boxes.XMax.as_matrix()),\n",
    "      standard_fields.TfExampleFields.object_class_text:\n",
    "          dataset_util.bytes_list_feature(\n",
    "              filtered_data_frame_boxes.LabelName.as_matrix()),\n",
    "      standard_fields.TfExampleFields.object_class_label:\n",
    "          dataset_util.int64_list_feature(\n",
    "              filtered_data_frame_boxes.LabelName.map(lambda x: label_map[x])\n",
    "              .as_matrix()),\n",
    "      standard_fields.TfExampleFields.filename:\n",
    "          dataset_util.bytes_feature('{}.jpg'.format(image_id)),\n",
    "      standard_fields.TfExampleFields.source_id:\n",
    "          dataset_util.bytes_feature(image_id),\n",
    "      standard_fields.TfExampleFields.image_encoded:\n",
    "          dataset_util.bytes_feature(encoded_image),\n",
    "  }\n",
    "\n",
    "  if 'IsGroupOf' in filtered_data_frame.columns:\n",
    "    feature_map[standard_fields.TfExampleFields.\n",
    "                object_group_of] = dataset_util.int64_list_feature(\n",
    "                    filtered_data_frame_boxes.IsGroupOf.as_matrix().astype(int))\n",
    "  if 'IsOccluded' in filtered_data_frame.columns:\n",
    "    feature_map[standard_fields.TfExampleFields.\n",
    "                object_occluded] = dataset_util.int64_list_feature(\n",
    "                    filtered_data_frame_boxes.IsOccluded.as_matrix().astype(\n",
    "                        int))\n",
    "  if 'IsTruncated' in filtered_data_frame.columns:\n",
    "    feature_map[standard_fields.TfExampleFields.\n",
    "                object_truncated] = dataset_util.int64_list_feature(\n",
    "                    filtered_data_frame_boxes.IsTruncated.as_matrix().astype(\n",
    "                        int))\n",
    "  if 'IsDepiction' in filtered_data_frame.columns:\n",
    "    feature_map[standard_fields.TfExampleFields.\n",
    "                object_depiction] = dataset_util.int64_list_feature(\n",
    "                    filtered_data_frame_boxes.IsDepiction.as_matrix().astype(\n",
    "                        int))\n",
    "\n",
    "  if 'ConfidenceImageLabel' in filtered_data_frame_labels.columns:\n",
    "    feature_map[standard_fields.TfExampleFields.\n",
    "                image_class_label] = dataset_util.int64_list_feature(\n",
    "                    filtered_data_frame_labels.LabelName.map(\n",
    "                        lambda x: label_map[x]).as_matrix())\n",
    "    feature_map[standard_fields.TfExampleFields.\n",
    "                image_class_text] = dataset_util.bytes_list_feature(\n",
    "                    filtered_data_frame_labels.LabelName.as_matrix()),\n",
    "  return tf.train.Example(features=tf.train.Features(feature=feature_map))\n"
   ]
  }
 ],
 "metadata": {
  "kernelspec": {
   "display_name": "Python 3",
   "language": "python",
   "name": "python3"
  },
  "language_info": {
   "codemirror_mode": {
    "name": "ipython",
    "version": 3
   },
   "file_extension": ".py",
   "mimetype": "text/x-python",
   "name": "python",
   "nbconvert_exporter": "python",
   "pygments_lexer": "ipython3",
   "version": "3.7.3"
  }
 },
 "nbformat": 4,
 "nbformat_minor": 2
}
